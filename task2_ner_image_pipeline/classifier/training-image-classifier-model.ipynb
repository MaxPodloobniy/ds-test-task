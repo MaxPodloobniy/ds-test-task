{
 "metadata": {
  "kernelspec": {
   "language": "python",
   "display_name": "Python 3",
   "name": "python3"
  },
  "language_info": {
   "name": "python",
   "version": "3.11.13",
   "mimetype": "text/x-python",
   "codemirror_mode": {
    "name": "ipython",
    "version": 3
   },
   "pygments_lexer": "ipython3",
   "nbconvert_exporter": "python",
   "file_extension": ".py"
  },
  "kaggle": {
   "accelerator": "nvidiaTeslaT4",
   "dataSources": [
    {
     "sourceId": 10815021,
     "sourceType": "datasetVersion",
     "datasetId": 6714357
    }
   ],
   "dockerImageVersionId": 31090,
   "isInternetEnabled": true,
   "language": "python",
   "sourceType": "notebook",
   "isGpuEnabled": true
  }
 },
 "nbformat_minor": 4,
 "nbformat": 4,
 "cells": [
  {
   "cell_type": "code",
   "source": [
    "import os\n",
    "import argparse\n",
    "import json\n",
    "import pandas as pd\n",
    "import tensorflow as tf\n",
    "from tensorflow.keras.optimizers import Adam\n",
    "from tensorflow.keras.preprocessing.image import ImageDataGenerator\n",
    "from tensorflow.keras.callbacks import ModelCheckpoint, EarlyStopping, ReduceLROnPlateau\n",
    "from tensorflow.keras.metrics import Precision, Recall, AUC, TopKCategoricalAccuracy\n",
    "from sklearn.model_selection import train_test_split\n",
    "\n",
    "import sys"
   ],
   "metadata": {
    "_uuid": "8f2839f25d086af736a60e9eeb907d3b93b6e0e5",
    "_cell_guid": "b1076dfc-b9ad-4769-8c92-a6c4dae69d19",
    "trusted": true,
    "execution": {
     "iopub.status.busy": "2025-10-07T11:10:29.893083Z",
     "iopub.execute_input": "2025-10-07T11:10:29.893618Z",
     "iopub.status.idle": "2025-10-07T11:10:44.696117Z",
     "shell.execute_reply.started": "2025-10-07T11:10:29.893597Z",
     "shell.execute_reply": "2025-10-07T11:10:44.695522Z"
    }
   },
   "outputs": [
    {
     "name": "stderr",
     "text": "2025-10-07 11:10:32.768014: E external/local_xla/xla/stream_executor/cuda/cuda_fft.cc:477] Unable to register cuFFT factory: Attempting to register factory for plugin cuFFT when one has already been registered\nWARNING: All log messages before absl::InitializeLog() is called are written to STDERR\nE0000 00:00:1759835432.949318      36 cuda_dnn.cc:8310] Unable to register cuDNN factory: Attempting to register factory for plugin cuDNN when one has already been registered\nE0000 00:00:1759835433.007210      36 cuda_blas.cc:1418] Unable to register cuBLAS factory: Attempting to register factory for plugin cuBLAS when one has already been registered\n",
     "output_type": "stream"
    }
   ],
   "execution_count": 1
  },
  {
   "cell_type": "code",
   "source": [
    "sys.argv = [\n",
    "        \"\",\n",
    "        \"--dataset_path\", \"/kaggle/input/11-animal-classification/dataset\"\n",
    "    ]"
   ],
   "metadata": {
    "trusted": true,
    "execution": {
     "iopub.status.busy": "2025-10-07T11:10:47.325356Z",
     "iopub.execute_input": "2025-10-07T11:10:47.326045Z",
     "iopub.status.idle": "2025-10-07T11:10:47.329517Z",
     "shell.execute_reply.started": "2025-10-07T11:10:47.326019Z",
     "shell.execute_reply": "2025-10-07T11:10:47.328775Z"
    }
   },
   "outputs": [],
   "execution_count": 2
  },
  {
   "cell_type": "code",
   "source": [
    "def parse_args():\n",
    "    \"\"\"Function for parsing arguments\"\"\"\n",
    "    parser = argparse.ArgumentParser()\n",
    "\n",
    "    parser.add_argument('--dataset_path', type=str, required=True, help='Path to dataset directory')\n",
    "    parser.add_argument('--img_size', type=int, default=224)\n",
    "    parser.add_argument('--test_split', type=float, default=0.2)\n",
    "    parser.add_argument('--batch_size', type=int, default=24)\n",
    "    parser.add_argument('--val_batch_size', type=int, default=2)\n",
    "    parser.add_argument('--learning_rate', type=float, default=1e-4)\n",
    "    parser.add_argument('--epochs', type=int, default=100)\n",
    "    parser.add_argument('--model_save_path', type=str, default='classifier_model.keras')\n",
    "\n",
    "    return parser.parse_args()"
   ],
   "metadata": {
    "trusted": true,
    "execution": {
     "iopub.status.busy": "2025-10-07T11:10:49.919983Z",
     "iopub.execute_input": "2025-10-07T11:10:49.920675Z",
     "iopub.status.idle": "2025-10-07T11:10:49.925699Z",
     "shell.execute_reply.started": "2025-10-07T11:10:49.920652Z",
     "shell.execute_reply": "2025-10-07T11:10:49.924850Z"
    }
   },
   "outputs": [],
   "execution_count": 3
  },
  {
   "cell_type": "code",
   "source": [
    "def main():\n",
    "    # Loading all arguments\n",
    "    args = parse_args()\n",
    "\n",
    "    print(\"Num GPUs Available:\", len(tf.config.experimental.list_physical_devices('GPU')))\n",
    "\n",
    "    # Get all file paths and class names\n",
    "    all_files = []\n",
    "    dataset_path = args.dataset_path\n",
    "    for class_name in os.listdir(dataset_path):\n",
    "        class_path = os.path.join(dataset_path, class_name)\n",
    "        if os.path.isdir(class_path):\n",
    "            for filename in os.listdir(class_path):\n",
    "                all_files.append((os.path.join(class_path, filename), class_name))\n",
    "\n",
    "    # Create DataFrame\n",
    "    df = pd.DataFrame(all_files, columns=[\"filename\", \"class\"])\n",
    "\n",
    "    # Split data into train and validation sets while preserving class distribution\n",
    "    train_df, val_df = train_test_split(df, test_size=args.test_split, stratify=df[\"class\"], random_state=42)\n",
    "\n",
    "    # Define data generators\n",
    "    train_datagen = ImageDataGenerator(rescale=1. / 255)\n",
    "    valid_datagen = ImageDataGenerator(rescale=1. / 255)\n",
    "\n",
    "    train_generator = train_datagen.flow_from_dataframe(\n",
    "        dataframe=train_df,\n",
    "        x_col=\"filename\",\n",
    "        y_col=\"class\",\n",
    "        target_size=(args.img_size, args.img_size),\n",
    "        batch_size=args.batch_size,\n",
    "        shuffle=True,\n",
    "        seed=42,\n",
    "        class_mode=\"categorical\"\n",
    "    )\n",
    "\n",
    "    valid_generator = valid_datagen.flow_from_dataframe(\n",
    "        dataframe=val_df,\n",
    "        x_col=\"filename\",\n",
    "        y_col=\"class\",\n",
    "        target_size=(args.img_size, args.img_size),\n",
    "        batch_size=args.val_batch_size,\n",
    "        shuffle=False,\n",
    "        seed=42,\n",
    "        class_mode=\"categorical\"\n",
    "    )\n",
    "\n",
    "    print(f'Train generator classes: {train_generator.class_indices}')\n",
    "    print(f'Validation generator classes: {valid_generator.class_indices}')\n",
    "\n",
    "    # Save class indices for inference\n",
    "    class_indices_path = args.model_save_path.replace('.keras', '_classes.json')\n",
    "    with open(class_indices_path, 'w') as f:\n",
    "        json.dump(train_generator.class_indices, f, indent=4)\n",
    "\n",
    "    # Load VGG16 model without the fully connected layers\n",
    "    base_model = tf.keras.applications.VGG16(\n",
    "        input_shape=(args.img_size, args.img_size, 3),\n",
    "        include_top=False,\n",
    "        weights='imagenet'\n",
    "    )\n",
    "\n",
    "    # Fine-tune only the first 15 layers\n",
    "    for layer in base_model.layers[:15]:\n",
    "        layer.trainable = True\n",
    "    for layer in base_model.layers[15:]:\n",
    "        layer.trainable = False\n",
    "\n",
    "    # Build the new model\n",
    "    x = base_model.output\n",
    "    x = tf.keras.layers.GlobalAveragePooling2D()(x)\n",
    "    x = tf.keras.layers.Dense(1024)(x)\n",
    "    x = tf.keras.layers.BatchNormalization()(x)\n",
    "    x = tf.keras.layers.Activation('relu')(x)\n",
    "    x = tf.keras.layers.Dropout(0.3)(x)\n",
    "    x = tf.keras.layers.Dense(512)(x)\n",
    "    x = tf.keras.layers.BatchNormalization()(x)\n",
    "    x = tf.keras.layers.Activation('relu')(x)\n",
    "    x = tf.keras.layers.Dropout(0.2)(x)\n",
    "\n",
    "    num_classes = len(train_generator.class_indices)\n",
    "    predictions = tf.keras.layers.Dense(num_classes, activation='softmax')(x)\n",
    "\n",
    "    model = tf.keras.models.Model(inputs=base_model.input, outputs=predictions)\n",
    "\n",
    "    # Compile model\n",
    "    model.compile(\n",
    "        optimizer=Adam(args.learning_rate),\n",
    "        loss=\"categorical_crossentropy\",\n",
    "        metrics=[\n",
    "            \"accuracy\",\n",
    "            Precision(name=\"precision\"),\n",
    "            Recall(name=\"recall\"),\n",
    "            AUC(name=\"auc\"),\n",
    "        ]\n",
    "    )\n",
    "\n",
    "    # Callbacks\n",
    "    checkpoint_callback = ModelCheckpoint(\n",
    "        args.model_save_path,\n",
    "        monitor=\"val_accuracy\",\n",
    "        save_best_only=True,\n",
    "        mode=\"max\",\n",
    "        verbose=1\n",
    "    )\n",
    "\n",
    "    early_stopping_callback = EarlyStopping(\n",
    "        patience=4,\n",
    "        restore_best_weights=True\n",
    "    )\n",
    "\n",
    "    learning_rate_reduce = ReduceLROnPlateau(\n",
    "        monitor='val_loss',\n",
    "        factor=0.5,\n",
    "        patience=2,\n",
    "        mode='min'\n",
    "    )\n",
    "\n",
    "    # Train the model\n",
    "    model.fit(\n",
    "        train_generator,\n",
    "        epochs=args.epochs,\n",
    "        validation_data=valid_generator,\n",
    "        callbacks=[checkpoint_callback, early_stopping_callback, learning_rate_reduce]\n",
    "    )"
   ],
   "metadata": {
    "trusted": true,
    "execution": {
     "iopub.status.busy": "2025-10-07T11:10:51.618891Z",
     "iopub.execute_input": "2025-10-07T11:10:51.619604Z",
     "iopub.status.idle": "2025-10-07T11:10:51.630976Z",
     "shell.execute_reply.started": "2025-10-07T11:10:51.619581Z",
     "shell.execute_reply": "2025-10-07T11:10:51.630239Z"
    }
   },
   "outputs": [],
   "execution_count": 4
  },
  {
   "cell_type": "code",
   "source": [
    "if __name__ == \"__main__\":\n",
    "    main()"
   ],
   "metadata": {
    "trusted": true,
    "execution": {
     "iopub.status.busy": "2025-10-07T12:01:24.229552Z",
     "iopub.execute_input": "2025-10-07T12:01:24.229847Z",
     "iopub.status.idle": "2025-10-07T13:32:22.825611Z",
     "shell.execute_reply.started": "2025-10-07T12:01:24.229822Z",
     "shell.execute_reply": "2025-10-07T13:32:22.825061Z"
    }
   },
   "outputs": [
    {
     "name": "stdout",
     "text": "Num GPUs Available: 2\nFound 8432 validated image filenames belonging to 11 classes.\nFound 2108 validated image filenames belonging to 11 classes.\nTrain generator classes: {'chimpanzee': 0, 'coyote': 1, 'deer': 2, 'duck': 3, 'eagle': 4, 'elephant': 5, 'hedgehog': 6, 'hippopotamus': 7, 'kangaroo': 8, 'rhinoceros': 9, 'tiger': 10}\nValidation generator classes: {'chimpanzee': 0, 'coyote': 1, 'deer': 2, 'duck': 3, 'eagle': 4, 'elephant': 5, 'hedgehog': 6, 'hippopotamus': 7, 'kangaroo': 8, 'rhinoceros': 9, 'tiger': 10}\n",
     "output_type": "stream"
    },
    {
     "name": "stderr",
     "text": "/usr/local/lib/python3.11/dist-packages/keras/src/trainers/data_adapters/py_dataset_adapter.py:121: UserWarning: Your `PyDataset` class should call `super().__init__(**kwargs)` in its constructor. `**kwargs` can include `workers`, `use_multiprocessing`, `max_queue_size`. Do not pass these arguments to `fit()`, as they will be ignored.\n  self._warn_if_super_not_called()\n",
     "output_type": "stream"
    },
    {
     "name": "stdout",
     "text": "Epoch 1/100\n\u001B[1m352/352\u001B[0m \u001B[32m━━━━━━━━━━━━━━━━━━━━\u001B[0m\u001B[37m\u001B[0m \u001B[1m0s\u001B[0m 448ms/step - accuracy: 0.1964 - auc: 0.6430 - loss: 2.4171 - precision: 0.3504 - recall: 0.0532\nEpoch 1: val_accuracy improved from -inf to 0.12097, saving model to classifier_model.keras\n\u001B[1m352/352\u001B[0m \u001B[32m━━━━━━━━━━━━━━━━━━━━\u001B[0m\u001B[37m\u001B[0m \u001B[1m189s\u001B[0m 505ms/step - accuracy: 0.1966 - auc: 0.6432 - loss: 2.4164 - precision: 0.3508 - recall: 0.0534 - val_accuracy: 0.1210 - val_auc: 0.5690 - val_loss: 6.5434 - val_precision: 0.1203 - val_recall: 0.1200 - learning_rate: 1.0000e-04\nEpoch 2/100\n\u001B[1m352/352\u001B[0m \u001B[32m━━━━━━━━━━━━━━━━━━━━\u001B[0m\u001B[37m\u001B[0m \u001B[1m0s\u001B[0m 430ms/step - accuracy: 0.4709 - auc: 0.8631 - loss: 1.5911 - precision: 0.6554 - recall: 0.3035\nEpoch 2: val_accuracy improved from 0.12097 to 0.42457, saving model to classifier_model.keras\n\u001B[1m352/352\u001B[0m \u001B[32m━━━━━━━━━━━━━━━━━━━━\u001B[0m\u001B[37m\u001B[0m \u001B[1m170s\u001B[0m 482ms/step - accuracy: 0.4711 - auc: 0.8632 - loss: 1.5906 - precision: 0.6556 - recall: 0.3037 - val_accuracy: 0.4246 - val_auc: 0.8323 - val_loss: 1.7769 - val_precision: 0.6370 - val_recall: 0.2823 - learning_rate: 1.0000e-04\nEpoch 3/100\n\u001B[1m352/352\u001B[0m \u001B[32m━━━━━━━━━━━━━━━━━━━━\u001B[0m\u001B[37m\u001B[0m \u001B[1m0s\u001B[0m 430ms/step - accuracy: 0.6643 - auc: 0.9395 - loss: 1.0550 - precision: 0.7867 - recall: 0.5426\nEpoch 3: val_accuracy improved from 0.42457 to 0.62524, saving model to classifier_model.keras\n\u001B[1m352/352\u001B[0m \u001B[32m━━━━━━━━━━━━━━━━━━━━\u001B[0m\u001B[37m\u001B[0m \u001B[1m170s\u001B[0m 482ms/step - accuracy: 0.6644 - auc: 0.9395 - loss: 1.0548 - precision: 0.7867 - recall: 0.5427 - val_accuracy: 0.6252 - val_auc: 0.9307 - val_loss: 1.1574 - val_precision: 0.7334 - val_recall: 0.5493 - learning_rate: 1.0000e-04\nEpoch 4/100\n\u001B[1m352/352\u001B[0m \u001B[32m━━━━━━━━━━━━━━━━━━━━\u001B[0m\u001B[37m\u001B[0m \u001B[1m0s\u001B[0m 432ms/step - accuracy: 0.7832 - auc: 0.9764 - loss: 0.6551 - precision: 0.8613 - recall: 0.7096\nEpoch 4: val_accuracy improved from 0.62524 to 0.65133, saving model to classifier_model.keras\n\u001B[1m352/352\u001B[0m \u001B[32m━━━━━━━━━━━━━━━━━━━━\u001B[0m\u001B[37m\u001B[0m \u001B[1m171s\u001B[0m 484ms/step - accuracy: 0.7833 - auc: 0.9764 - loss: 0.6551 - precision: 0.8613 - recall: 0.7096 - val_accuracy: 0.6513 - val_auc: 0.9352 - val_loss: 1.1775 - val_precision: 0.7025 - val_recall: 0.6229 - learning_rate: 1.0000e-04\nEpoch 5/100\n\u001B[1m352/352\u001B[0m \u001B[32m━━━━━━━━━━━━━━━━━━━━\u001B[0m\u001B[37m\u001B[0m \u001B[1m0s\u001B[0m 428ms/step - accuracy: 0.8549 - auc: 0.9884 - loss: 0.4523 - precision: 0.9070 - recall: 0.8081\nEpoch 5: val_accuracy improved from 0.65133 to 0.75996, saving model to classifier_model.keras\n\u001B[1m352/352\u001B[0m \u001B[32m━━━━━━━━━━━━━━━━━━━━\u001B[0m\u001B[37m\u001B[0m \u001B[1m169s\u001B[0m 480ms/step - accuracy: 0.8549 - auc: 0.9884 - loss: 0.4523 - precision: 0.9070 - recall: 0.8081 - val_accuracy: 0.7600 - val_auc: 0.9681 - val_loss: 0.7706 - val_precision: 0.7957 - val_recall: 0.7296 - learning_rate: 1.0000e-04\nEpoch 6/100\n\u001B[1m352/352\u001B[0m \u001B[32m━━━━━━━━━━━━━━━━━━━━\u001B[0m\u001B[37m\u001B[0m \u001B[1m0s\u001B[0m 430ms/step - accuracy: 0.8929 - auc: 0.9935 - loss: 0.3228 - precision: 0.9273 - recall: 0.8608\nEpoch 6: val_accuracy improved from 0.75996 to 0.80598, saving model to classifier_model.keras\n\u001B[1m352/352\u001B[0m \u001B[32m━━━━━━━━━━━━━━━━━━━━\u001B[0m\u001B[37m\u001B[0m \u001B[1m170s\u001B[0m 482ms/step - accuracy: 0.8929 - auc: 0.9935 - loss: 0.3228 - precision: 0.9273 - recall: 0.8608 - val_accuracy: 0.8060 - val_auc: 0.9731 - val_loss: 0.6530 - val_precision: 0.8283 - val_recall: 0.7851 - learning_rate: 1.0000e-04\nEpoch 7/100\n\u001B[1m352/352\u001B[0m \u001B[32m━━━━━━━━━━━━━━━━━━━━\u001B[0m\u001B[37m\u001B[0m \u001B[1m0s\u001B[0m 432ms/step - accuracy: 0.9200 - auc: 0.9962 - loss: 0.2475 - precision: 0.9460 - recall: 0.9002\nEpoch 7: val_accuracy did not improve from 0.80598\n\u001B[1m352/352\u001B[0m \u001B[32m━━━━━━━━━━━━━━━━━━━━\u001B[0m\u001B[37m\u001B[0m \u001B[1m170s\u001B[0m 482ms/step - accuracy: 0.9200 - auc: 0.9962 - loss: 0.2475 - precision: 0.9460 - recall: 0.9002 - val_accuracy: 0.7922 - val_auc: 0.9732 - val_loss: 0.6748 - val_precision: 0.8179 - val_recall: 0.7713 - learning_rate: 1.0000e-04\nEpoch 8/100\n\u001B[1m352/352\u001B[0m \u001B[32m━━━━━━━━━━━━━━━━━━━━\u001B[0m\u001B[37m\u001B[0m \u001B[1m0s\u001B[0m 430ms/step - accuracy: 0.9426 - auc: 0.9975 - loss: 0.1854 - precision: 0.9565 - recall: 0.9250\nEpoch 8: val_accuracy improved from 0.80598 to 0.84061, saving model to classifier_model.keras\n\u001B[1m352/352\u001B[0m \u001B[32m━━━━━━━━━━━━━━━━━━━━\u001B[0m\u001B[37m\u001B[0m \u001B[1m170s\u001B[0m 482ms/step - accuracy: 0.9426 - auc: 0.9975 - loss: 0.1854 - precision: 0.9565 - recall: 0.9250 - val_accuracy: 0.8406 - val_auc: 0.9812 - val_loss: 0.5328 - val_precision: 0.8686 - val_recall: 0.8155 - learning_rate: 1.0000e-04\nEpoch 9/100\n\u001B[1m352/352\u001B[0m \u001B[32m━━━━━━━━━━━━━━━━━━━━\u001B[0m\u001B[37m\u001B[0m \u001B[1m0s\u001B[0m 430ms/step - accuracy: 0.9580 - auc: 0.9985 - loss: 0.1282 - precision: 0.9686 - recall: 0.9478\nEpoch 9: val_accuracy did not improve from 0.84061\n\u001B[1m352/352\u001B[0m \u001B[32m━━━━━━━━━━━━━━━━━━━━\u001B[0m\u001B[37m\u001B[0m \u001B[1m169s\u001B[0m 480ms/step - accuracy: 0.9580 - auc: 0.9985 - loss: 0.1282 - precision: 0.9686 - recall: 0.9478 - val_accuracy: 0.8193 - val_auc: 0.9752 - val_loss: 0.6253 - val_precision: 0.8592 - val_recall: 0.8017 - learning_rate: 1.0000e-04\nEpoch 10/100\n\u001B[1m352/352\u001B[0m \u001B[32m━━━━━━━━━━━━━━━━━━━━\u001B[0m\u001B[37m\u001B[0m \u001B[1m0s\u001B[0m 431ms/step - accuracy: 0.9649 - auc: 0.9987 - loss: 0.1118 - precision: 0.9725 - recall: 0.9571\nEpoch 10: val_accuracy improved from 0.84061 to 0.89706, saving model to classifier_model.keras\n\u001B[1m352/352\u001B[0m \u001B[32m━━━━━━━━━━━━━━━━━━━━\u001B[0m\u001B[37m\u001B[0m \u001B[1m170s\u001B[0m 483ms/step - accuracy: 0.9649 - auc: 0.9987 - loss: 0.1118 - precision: 0.9725 - recall: 0.9571 - val_accuracy: 0.8971 - val_auc: 0.9862 - val_loss: 0.3907 - val_precision: 0.9088 - val_recall: 0.8795 - learning_rate: 1.0000e-04\nEpoch 11/100\n\u001B[1m352/352\u001B[0m \u001B[32m━━━━━━━━━━━━━━━━━━━━\u001B[0m\u001B[37m\u001B[0m \u001B[1m0s\u001B[0m 431ms/step - accuracy: 0.9682 - auc: 0.9991 - loss: 0.0991 - precision: 0.9741 - recall: 0.9631\nEpoch 11: val_accuracy did not improve from 0.89706\n\u001B[1m352/352\u001B[0m \u001B[32m━━━━━━━━━━━━━━━━━━━━\u001B[0m\u001B[37m\u001B[0m \u001B[1m169s\u001B[0m 481ms/step - accuracy: 0.9682 - auc: 0.9991 - loss: 0.0991 - precision: 0.9741 - recall: 0.9631 - val_accuracy: 0.8534 - val_auc: 0.9797 - val_loss: 0.5376 - val_precision: 0.8700 - val_recall: 0.8411 - learning_rate: 1.0000e-04\nEpoch 12/100\n\u001B[1m352/352\u001B[0m \u001B[32m━━━━━━━━━━━━━━━━━━━━\u001B[0m\u001B[37m\u001B[0m \u001B[1m0s\u001B[0m 431ms/step - accuracy: 0.9701 - auc: 0.9993 - loss: 0.0906 - precision: 0.9769 - recall: 0.9644\nEpoch 12: val_accuracy did not improve from 0.89706\n\u001B[1m352/352\u001B[0m \u001B[32m━━━━━━━━━━━━━━━━━━━━\u001B[0m\u001B[37m\u001B[0m \u001B[1m169s\u001B[0m 481ms/step - accuracy: 0.9701 - auc: 0.9993 - loss: 0.0906 - precision: 0.9769 - recall: 0.9644 - val_accuracy: 0.8700 - val_auc: 0.9813 - val_loss: 0.4703 - val_precision: 0.8987 - val_recall: 0.8582 - learning_rate: 1.0000e-04\nEpoch 13/100\n\u001B[1m352/352\u001B[0m \u001B[32m━━━━━━━━━━━━━━━━━━━━\u001B[0m\u001B[37m\u001B[0m \u001B[1m0s\u001B[0m 431ms/step - accuracy: 0.9879 - auc: 0.9999 - loss: 0.0400 - precision: 0.9896 - recall: 0.9857\nEpoch 13: val_accuracy improved from 0.89706 to 0.93501, saving model to classifier_model.keras\n\u001B[1m352/352\u001B[0m \u001B[32m━━━━━━━━━━━━━━━━━━━━\u001B[0m\u001B[37m\u001B[0m \u001B[1m170s\u001B[0m 483ms/step - accuracy: 0.9880 - auc: 0.9999 - loss: 0.0399 - precision: 0.9896 - recall: 0.9857 - val_accuracy: 0.9350 - val_auc: 0.9935 - val_loss: 0.2326 - val_precision: 0.9455 - val_recall: 0.9298 - learning_rate: 5.0000e-05\nEpoch 14/100\n\u001B[1m352/352\u001B[0m \u001B[32m━━━━━━━━━━━━━━━━━━━━\u001B[0m\u001B[37m\u001B[0m \u001B[1m0s\u001B[0m 431ms/step - accuracy: 0.9960 - auc: 0.9998 - loss: 0.0199 - precision: 0.9962 - recall: 0.9952\nEpoch 14: val_accuracy did not improve from 0.93501\n\u001B[1m352/352\u001B[0m \u001B[32m━━━━━━━━━━━━━━━━━━━━\u001B[0m\u001B[37m\u001B[0m \u001B[1m169s\u001B[0m 481ms/step - accuracy: 0.9960 - auc: 0.9998 - loss: 0.0199 - precision: 0.9962 - recall: 0.9952 - val_accuracy: 0.9279 - val_auc: 0.9886 - val_loss: 0.2903 - val_precision: 0.9378 - val_recall: 0.9227 - learning_rate: 5.0000e-05\nEpoch 15/100\n\u001B[1m352/352\u001B[0m \u001B[32m━━━━━━━━━━━━━━━━━━━━\u001B[0m\u001B[37m\u001B[0m \u001B[1m0s\u001B[0m 431ms/step - accuracy: 0.9984 - auc: 1.0000 - loss: 0.0110 - precision: 0.9985 - recall: 0.9983\nEpoch 15: val_accuracy did not improve from 0.93501\n\u001B[1m352/352\u001B[0m \u001B[32m━━━━━━━━━━━━━━━━━━━━\u001B[0m\u001B[37m\u001B[0m \u001B[1m170s\u001B[0m 481ms/step - accuracy: 0.9984 - auc: 1.0000 - loss: 0.0110 - precision: 0.9984 - recall: 0.9983 - val_accuracy: 0.9103 - val_auc: 0.9872 - val_loss: 0.3595 - val_precision: 0.9176 - val_recall: 0.9028 - learning_rate: 5.0000e-05\nEpoch 16/100\n\u001B[1m352/352\u001B[0m \u001B[32m━━━━━━━━━━━━━━━━━━━━\u001B[0m\u001B[37m\u001B[0m \u001B[1m0s\u001B[0m 431ms/step - accuracy: 0.9967 - auc: 0.9999 - loss: 0.0121 - precision: 0.9985 - recall: 0.9967\nEpoch 16: val_accuracy improved from 0.93501 to 0.94307, saving model to classifier_model.keras\n\u001B[1m352/352\u001B[0m \u001B[32m━━━━━━━━━━━━━━━━━━━━\u001B[0m\u001B[37m\u001B[0m \u001B[1m170s\u001B[0m 483ms/step - accuracy: 0.9967 - auc: 0.9999 - loss: 0.0121 - precision: 0.9985 - recall: 0.9967 - val_accuracy: 0.9431 - val_auc: 0.9930 - val_loss: 0.2259 - val_precision: 0.9505 - val_recall: 0.9383 - learning_rate: 2.5000e-05\nEpoch 17/100\n\u001B[1m352/352\u001B[0m \u001B[32m━━━━━━━━━━━━━━━━━━━━\u001B[0m\u001B[37m\u001B[0m \u001B[1m0s\u001B[0m 431ms/step - accuracy: 0.9993 - auc: 1.0000 - loss: 0.0062 - precision: 0.9994 - recall: 0.9991\nEpoch 17: val_accuracy did not improve from 0.94307\n\u001B[1m352/352\u001B[0m \u001B[32m━━━━━━━━━━━━━━━━━━━━\u001B[0m\u001B[37m\u001B[0m \u001B[1m170s\u001B[0m 481ms/step - accuracy: 0.9993 - auc: 1.0000 - loss: 0.0062 - precision: 0.9994 - recall: 0.9991 - val_accuracy: 0.9331 - val_auc: 0.9892 - val_loss: 0.2665 - val_precision: 0.9406 - val_recall: 0.9307 - learning_rate: 2.5000e-05\nEpoch 18/100\n\u001B[1m352/352\u001B[0m \u001B[32m━━━━━━━━━━━━━━━━━━━━\u001B[0m\u001B[37m\u001B[0m \u001B[1m0s\u001B[0m 428ms/step - accuracy: 0.9986 - auc: 1.0000 - loss: 0.0081 - precision: 0.9987 - recall: 0.9981\nEpoch 18: val_accuracy did not improve from 0.94307\n\u001B[1m352/352\u001B[0m \u001B[32m━━━━━━━━━━━━━━━━━━━━\u001B[0m\u001B[37m\u001B[0m \u001B[1m168s\u001B[0m 478ms/step - accuracy: 0.9986 - auc: 1.0000 - loss: 0.0081 - precision: 0.9987 - recall: 0.9981 - val_accuracy: 0.9402 - val_auc: 0.9918 - val_loss: 0.2324 - val_precision: 0.9469 - val_recall: 0.9398 - learning_rate: 2.5000e-05\nEpoch 19/100\n\u001B[1m352/352\u001B[0m \u001B[32m━━━━━━━━━━━━━━━━━━━━\u001B[0m\u001B[37m\u001B[0m \u001B[1m0s\u001B[0m 430ms/step - accuracy: 0.9990 - auc: 0.9999 - loss: 0.0069 - precision: 0.9990 - recall: 0.9990\nEpoch 19: val_accuracy improved from 0.94307 to 0.94639, saving model to classifier_model.keras\n\u001B[1m352/352\u001B[0m \u001B[32m━━━━━━━━━━━━━━━━━━━━\u001B[0m\u001B[37m\u001B[0m \u001B[1m170s\u001B[0m 482ms/step - accuracy: 0.9990 - auc: 0.9999 - loss: 0.0069 - precision: 0.9990 - recall: 0.9990 - val_accuracy: 0.9464 - val_auc: 0.9926 - val_loss: 0.2153 - val_precision: 0.9536 - val_recall: 0.9450 - learning_rate: 1.2500e-05\nEpoch 20/100\n\u001B[1m352/352\u001B[0m \u001B[32m━━━━━━━━━━━━━━━━━━━━\u001B[0m\u001B[37m\u001B[0m \u001B[1m0s\u001B[0m 430ms/step - accuracy: 0.9992 - auc: 1.0000 - loss: 0.0046 - precision: 0.9992 - recall: 0.9989\nEpoch 20: val_accuracy did not improve from 0.94639\n\u001B[1m352/352\u001B[0m \u001B[32m━━━━━━━━━━━━━━━━━━━━\u001B[0m\u001B[37m\u001B[0m \u001B[1m169s\u001B[0m 480ms/step - accuracy: 0.9992 - auc: 1.0000 - loss: 0.0046 - precision: 0.9992 - recall: 0.9989 - val_accuracy: 0.9445 - val_auc: 0.9929 - val_loss: 0.2237 - val_precision: 0.9519 - val_recall: 0.9398 - learning_rate: 1.2500e-05\nEpoch 21/100\n\u001B[1m352/352\u001B[0m \u001B[32m━━━━━━━━━━━━━━━━━━━━\u001B[0m\u001B[37m\u001B[0m \u001B[1m0s\u001B[0m 430ms/step - accuracy: 0.9996 - auc: 1.0000 - loss: 0.0047 - precision: 0.9996 - recall: 0.9996\nEpoch 21: val_accuracy improved from 0.94639 to 0.94687, saving model to classifier_model.keras\n\u001B[1m352/352\u001B[0m \u001B[32m━━━━━━━━━━━━━━━━━━━━\u001B[0m\u001B[37m\u001B[0m \u001B[1m170s\u001B[0m 483ms/step - accuracy: 0.9996 - auc: 1.0000 - loss: 0.0047 - precision: 0.9996 - recall: 0.9996 - val_accuracy: 0.9469 - val_auc: 0.9934 - val_loss: 0.2194 - val_precision: 0.9527 - val_recall: 0.9450 - learning_rate: 1.2500e-05\nEpoch 22/100\n\u001B[1m352/352\u001B[0m \u001B[32m━━━━━━━━━━━━━━━━━━━━\u001B[0m\u001B[37m\u001B[0m \u001B[1m0s\u001B[0m 427ms/step - accuracy: 0.9997 - auc: 1.0000 - loss: 0.0038 - precision: 0.9997 - recall: 0.9995\nEpoch 22: val_accuracy did not improve from 0.94687\n\u001B[1m352/352\u001B[0m \u001B[32m━━━━━━━━━━━━━━━━━━━━\u001B[0m\u001B[37m\u001B[0m \u001B[1m168s\u001B[0m 477ms/step - accuracy: 0.9997 - auc: 1.0000 - loss: 0.0038 - precision: 0.9997 - recall: 0.9995 - val_accuracy: 0.9459 - val_auc: 0.9935 - val_loss: 0.2135 - val_precision: 0.9535 - val_recall: 0.9445 - learning_rate: 6.2500e-06\nEpoch 23/100\n\u001B[1m352/352\u001B[0m \u001B[32m━━━━━━━━━━━━━━━━━━━━\u001B[0m\u001B[37m\u001B[0m \u001B[1m0s\u001B[0m 428ms/step - accuracy: 0.9992 - auc: 1.0000 - loss: 0.0035 - precision: 0.9993 - recall: 0.9990\nEpoch 23: val_accuracy did not improve from 0.94687\n\u001B[1m352/352\u001B[0m \u001B[32m━━━━━━━━━━━━━━━━━━━━\u001B[0m\u001B[37m\u001B[0m \u001B[1m169s\u001B[0m 479ms/step - accuracy: 0.9992 - auc: 1.0000 - loss: 0.0035 - precision: 0.9993 - recall: 0.9990 - val_accuracy: 0.9464 - val_auc: 0.9923 - val_loss: 0.2180 - val_precision: 0.9520 - val_recall: 0.9417 - learning_rate: 6.2500e-06\nEpoch 24/100\n\u001B[1m352/352\u001B[0m \u001B[32m━━━━━━━━━━━━━━━━━━━━\u001B[0m\u001B[37m\u001B[0m \u001B[1m0s\u001B[0m 427ms/step - accuracy: 0.9997 - auc: 1.0000 - loss: 0.0036 - precision: 0.9998 - recall: 0.9995\nEpoch 24: val_accuracy improved from 0.94687 to 0.94782, saving model to classifier_model.keras\n\u001B[1m352/352\u001B[0m \u001B[32m━━━━━━━━━━━━━━━━━━━━\u001B[0m\u001B[37m\u001B[0m \u001B[1m169s\u001B[0m 479ms/step - accuracy: 0.9997 - auc: 1.0000 - loss: 0.0036 - precision: 0.9998 - recall: 0.9995 - val_accuracy: 0.9478 - val_auc: 0.9919 - val_loss: 0.2122 - val_precision: 0.9536 - val_recall: 0.9450 - learning_rate: 6.2500e-06\nEpoch 25/100\n\u001B[1m352/352\u001B[0m \u001B[32m━━━━━━━━━━━━━━━━━━━━\u001B[0m\u001B[37m\u001B[0m \u001B[1m0s\u001B[0m 430ms/step - accuracy: 0.9995 - auc: 1.0000 - loss: 0.0029 - precision: 0.9995 - recall: 0.9995\nEpoch 25: val_accuracy did not improve from 0.94782\n\u001B[1m352/352\u001B[0m \u001B[32m━━━━━━━━━━━━━━━━━━━━\u001B[0m\u001B[37m\u001B[0m \u001B[1m169s\u001B[0m 480ms/step - accuracy: 0.9995 - auc: 1.0000 - loss: 0.0029 - precision: 0.9995 - recall: 0.9995 - val_accuracy: 0.9454 - val_auc: 0.9925 - val_loss: 0.2228 - val_precision: 0.9521 - val_recall: 0.9435 - learning_rate: 6.2500e-06\nEpoch 26/100\n\u001B[1m352/352\u001B[0m \u001B[32m━━━━━━━━━━━━━━━━━━━━\u001B[0m\u001B[37m\u001B[0m \u001B[1m0s\u001B[0m 430ms/step - accuracy: 0.9998 - auc: 1.0000 - loss: 0.0028 - precision: 0.9998 - recall: 0.9997\nEpoch 26: val_accuracy did not improve from 0.94782\n\u001B[1m352/352\u001B[0m \u001B[32m━━━━━━━━━━━━━━━━━━━━\u001B[0m\u001B[37m\u001B[0m \u001B[1m169s\u001B[0m 480ms/step - accuracy: 0.9998 - auc: 1.0000 - loss: 0.0028 - precision: 0.9998 - recall: 0.9997 - val_accuracy: 0.9379 - val_auc: 0.9935 - val_loss: 0.2324 - val_precision: 0.9453 - val_recall: 0.9341 - learning_rate: 6.2500e-06\nEpoch 27/100\n\u001B[1m352/352\u001B[0m \u001B[32m━━━━━━━━━━━━━━━━━━━━\u001B[0m\u001B[37m\u001B[0m \u001B[1m0s\u001B[0m 429ms/step - accuracy: 0.9994 - auc: 1.0000 - loss: 0.0038 - precision: 0.9994 - recall: 0.9990\nEpoch 27: val_accuracy did not improve from 0.94782\n\u001B[1m352/352\u001B[0m \u001B[32m━━━━━━━━━━━━━━━━━━━━\u001B[0m\u001B[37m\u001B[0m \u001B[1m169s\u001B[0m 479ms/step - accuracy: 0.9994 - auc: 1.0000 - loss: 0.0038 - precision: 0.9994 - recall: 0.9990 - val_accuracy: 0.9473 - val_auc: 0.9921 - val_loss: 0.2241 - val_precision: 0.9540 - val_recall: 0.9440 - learning_rate: 3.1250e-06\nEpoch 28/100\n\u001B[1m352/352\u001B[0m \u001B[32m━━━━━━━━━━━━━━━━━━━━\u001B[0m\u001B[37m\u001B[0m \u001B[1m0s\u001B[0m 428ms/step - accuracy: 0.9994 - auc: 1.0000 - loss: 0.0033 - precision: 0.9994 - recall: 0.9994\nEpoch 28: val_accuracy did not improve from 0.94782\n\u001B[1m352/352\u001B[0m \u001B[32m━━━━━━━━━━━━━━━━━━━━\u001B[0m\u001B[37m\u001B[0m \u001B[1m168s\u001B[0m 477ms/step - accuracy: 0.9994 - auc: 1.0000 - loss: 0.0033 - precision: 0.9994 - recall: 0.9994 - val_accuracy: 0.9469 - val_auc: 0.9924 - val_loss: 0.2119 - val_precision: 0.9527 - val_recall: 0.9450 - learning_rate: 3.1250e-06\nEpoch 29/100\n\u001B[1m352/352\u001B[0m \u001B[32m━━━━━━━━━━━━━━━━━━━━\u001B[0m\u001B[37m\u001B[0m \u001B[1m0s\u001B[0m 427ms/step - accuracy: 0.9998 - auc: 1.0000 - loss: 0.0023 - precision: 0.9998 - recall: 0.9998\nEpoch 29: val_accuracy improved from 0.94782 to 0.94829, saving model to classifier_model.keras\n\u001B[1m352/352\u001B[0m \u001B[32m━━━━━━━━━━━━━━━━━━━━\u001B[0m\u001B[37m\u001B[0m \u001B[1m169s\u001B[0m 479ms/step - accuracy: 0.9998 - auc: 1.0000 - loss: 0.0023 - precision: 0.9998 - recall: 0.9998 - val_accuracy: 0.9483 - val_auc: 0.9919 - val_loss: 0.2179 - val_precision: 0.9531 - val_recall: 0.9450 - learning_rate: 3.1250e-06\nEpoch 30/100\n\u001B[1m352/352\u001B[0m \u001B[32m━━━━━━━━━━━━━━━━━━━━\u001B[0m\u001B[37m\u001B[0m \u001B[1m0s\u001B[0m 428ms/step - accuracy: 0.9998 - auc: 1.0000 - loss: 0.0024 - precision: 0.9998 - recall: 0.9998\nEpoch 30: val_accuracy did not improve from 0.94829\n\u001B[1m352/352\u001B[0m \u001B[32m━━━━━━━━━━━━━━━━━━━━\u001B[0m\u001B[37m\u001B[0m \u001B[1m168s\u001B[0m 478ms/step - accuracy: 0.9998 - auc: 1.0000 - loss: 0.0024 - precision: 0.9998 - recall: 0.9998 - val_accuracy: 0.9469 - val_auc: 0.9919 - val_loss: 0.2181 - val_precision: 0.9544 - val_recall: 0.9440 - learning_rate: 3.1250e-06\nEpoch 31/100\n\u001B[1m352/352\u001B[0m \u001B[32m━━━━━━━━━━━━━━━━━━━━\u001B[0m\u001B[37m\u001B[0m \u001B[1m0s\u001B[0m 429ms/step - accuracy: 0.9998 - auc: 1.0000 - loss: 0.0020 - precision: 0.9999 - recall: 0.9998\nEpoch 31: val_accuracy did not improve from 0.94829\n\u001B[1m352/352\u001B[0m \u001B[32m━━━━━━━━━━━━━━━━━━━━\u001B[0m\u001B[37m\u001B[0m \u001B[1m169s\u001B[0m 479ms/step - accuracy: 0.9998 - auc: 1.0000 - loss: 0.0020 - precision: 0.9999 - recall: 0.9998 - val_accuracy: 0.9478 - val_auc: 0.9919 - val_loss: 0.2199 - val_precision: 0.9545 - val_recall: 0.9450 - learning_rate: 1.5625e-06\nEpoch 32/100\n\u001B[1m352/352\u001B[0m \u001B[32m━━━━━━━━━━━━━━━━━━━━\u001B[0m\u001B[37m\u001B[0m \u001B[1m0s\u001B[0m 429ms/step - accuracy: 0.9999 - auc: 1.0000 - loss: 0.0017 - precision: 0.9999 - recall: 0.9999\nEpoch 32: val_accuracy did not improve from 0.94829\n\u001B[1m352/352\u001B[0m \u001B[32m━━━━━━━━━━━━━━━━━━━━\u001B[0m\u001B[37m\u001B[0m \u001B[1m169s\u001B[0m 479ms/step - accuracy: 0.9999 - auc: 1.0000 - loss: 0.0017 - precision: 0.9999 - recall: 0.9999 - val_accuracy: 0.9473 - val_auc: 0.9924 - val_loss: 0.2123 - val_precision: 0.9522 - val_recall: 0.9450 - learning_rate: 1.5625e-06\n",
     "output_type": "stream"
    }
   ],
   "execution_count": 6
  },
  {
   "cell_type": "code",
   "source": [],
   "metadata": {
    "trusted": true
   },
   "outputs": [],
   "execution_count": null
  }
 ]
}
